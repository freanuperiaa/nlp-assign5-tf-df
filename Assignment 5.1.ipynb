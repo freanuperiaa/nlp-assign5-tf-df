{
 "cells": [
  {
   "cell_type": "code",
   "execution_count": 4,
   "id": "9dd27db0",
   "metadata": {},
   "outputs": [],
   "source": [
    "import nltk\n",
    "from nltk.corpus import stopwords\n",
    "from nltk.tokenize import word_tokenize\n",
    "from nltk.stem import PorterStemmer\n",
    "from num2words import num2words\n",
    "from sklearn.feature_extraction.text import TfidfVectorizer\n",
    "\n",
    "import os\n",
    "import numpy as np\n",
    "import pandas as pd\n",
    "import re\n"
   ]
  },
  {
   "cell_type": "code",
   "execution_count": 5,
   "id": "501f7617",
   "metadata": {},
   "outputs": [],
   "source": [
    "def convert_lower_case(data):\n",
    "    return np.char.lower(data)"
   ]
  },
  {
   "cell_type": "code",
   "execution_count": 6,
   "id": "5e2c6df5",
   "metadata": {},
   "outputs": [],
   "source": [
    "def remove_stop_words(data):\n",
    "    stop_words = stopwords.words('english')\n",
    "    words = word_tokenize(str(data))\n",
    "    new_text = \"\"\n",
    "    for w in words:\n",
    "        if w not in stop_words and len(w) > 1:\n",
    "            new_text = new_text + \" \" + w\n",
    "    return new_text"
   ]
  },
  {
   "cell_type": "code",
   "execution_count": 7,
   "id": "2427f898",
   "metadata": {},
   "outputs": [],
   "source": [
    "def remove_punctuation(data):\n",
    "    symbols = \"!\\\"$%&()*+-./:;<=>?@[\\]^_`{|}~\\n\"\n",
    "    for i in range(len(symbols)):\n",
    "        data = np.char.replace(data, symbols[i], \" \")\n",
    "        data = np.char.replace(data, \"  \", \" \")\n",
    "    data = np.char.replace(data, \",\", \"\")\n",
    "    return data"
   ]
  },
  {
   "cell_type": "code",
   "execution_count": 8,
   "id": "afa4fb62",
   "metadata": {},
   "outputs": [],
   "source": [
    "def remove_apostrophe(data):\n",
    "    return np.char.replace(data, \"'\", \"\")\n"
   ]
  },
  {
   "cell_type": "code",
   "execution_count": 9,
   "id": "7653a9fd",
   "metadata": {},
   "outputs": [],
   "source": [
    "def stemming(data):\n",
    "    stemmer = PorterStemmer()\n",
    "    \n",
    "    tokens = word_tokenize(str(data))\n",
    "    new_text = \"\"\n",
    "    for w in tokens:\n",
    "        new_text = new_text + \" \" + stemmer.stem(w)\n",
    "    return new_text"
   ]
  },
  {
   "cell_type": "code",
   "execution_count": 10,
   "id": "65814dc6",
   "metadata": {},
   "outputs": [],
   "source": [
    "def convert_numbers(data):\n",
    "    tokens = word_tokenize(str(data))\n",
    "    new_text = \"\"\n",
    "    for w in tokens:\n",
    "        try:\n",
    "            w = num2words(int(w))\n",
    "        except:\n",
    "            a = 0 \n",
    "#             w = 0\n",
    "        new_text = new_text + \" \" + w\n",
    "    new_text = np.char.replace(new_text, \"-\", \" \")\n",
    "    return new_text"
   ]
  },
  {
   "cell_type": "code",
   "execution_count": 11,
   "id": "664f938b",
   "metadata": {},
   "outputs": [],
   "source": [
    "def preprocess(data):\n",
    "    data = convert_lower_case(data)\n",
    "    data = remove_punctuation(data)\n",
    "    data = remove_apostrophe(data)\n",
    "    data = remove_stop_words(data)\n",
    "    data = convert_numbers(data)\n",
    "    data = stemming(data)\n",
    "    data = remove_punctuation(data)\n",
    "    data = convert_numbers(data)\n",
    "    data = stemming(data) # needed again as we need to stem the words\n",
    "    data = remove_punctuation(data) # needed again as num2word is giving few ...\n",
    "    data = remove_stop_words(data) # needed again as num2word is giving stopwords\n",
    "    return data"
   ]
  },
  {
   "cell_type": "code",
   "execution_count": 13,
   "id": "e2b122c3",
   "metadata": {},
   "outputs": [
    {
     "name": "stdout",
     "output_type": "stream",
     "text": [
      "Requirement already satisfied: beautifulsoup4 in d:\\tip\\courses\\cs 405\\module_5\\env\\lib\\site-packages (4.9.3)\n",
      "Requirement already satisfied: soupsieve>1.2 in d:\\tip\\courses\\cs 405\\module_5\\env\\lib\\site-packages (from beautifulsoup4) (2.2.1)\n"
     ]
    },
    {
     "name": "stderr",
     "output_type": "stream",
     "text": [
      "WARNING: You are using pip version 21.1.3; however, version 21.2.2 is available.\n",
      "You should consider upgrading via the 'D:\\TIP\\courses\\CS 405\\module_5\\env\\Scripts\\python.exe -m pip install --upgrade pip' command.\n"
     ]
    }
   ],
   "source": [
    "! pip install beautifulsoup4"
   ]
  },
  {
   "cell_type": "code",
   "execution_count": 14,
   "id": "189bc8bf",
   "metadata": {},
   "outputs": [
    {
     "name": "stdout",
     "output_type": "stream",
     "text": [
      "Requirement already satisfied: requests in d:\\tip\\courses\\cs 405\\module_5\\env\\lib\\site-packages (2.26.0)\n",
      "Requirement already satisfied: idna<4,>=2.5 in d:\\tip\\courses\\cs 405\\module_5\\env\\lib\\site-packages (from requests) (3.2)\n",
      "Requirement already satisfied: charset-normalizer~=2.0.0 in d:\\tip\\courses\\cs 405\\module_5\\env\\lib\\site-packages (from requests) (2.0.4)\n",
      "Requirement already satisfied: urllib3<1.27,>=1.21.1 in d:\\tip\\courses\\cs 405\\module_5\\env\\lib\\site-packages (from requests) (1.26.6)\n",
      "Requirement already satisfied: certifi>=2017.4.17 in d:\\tip\\courses\\cs 405\\module_5\\env\\lib\\site-packages (from requests) (2021.5.30)\n"
     ]
    },
    {
     "name": "stderr",
     "output_type": "stream",
     "text": [
      "WARNING: You are using pip version 21.1.3; however, version 21.2.2 is available.\n",
      "You should consider upgrading via the 'D:\\TIP\\courses\\CS 405\\module_5\\env\\Scripts\\python.exe -m pip install --upgrade pip' command.\n"
     ]
    }
   ],
   "source": [
    "!pip install requests"
   ]
  },
  {
   "cell_type": "code",
   "execution_count": 15,
   "id": "0992ce4e",
   "metadata": {},
   "outputs": [
    {
     "name": "stderr",
     "output_type": "stream",
     "text": [
      "ERROR: Could not find a version that satisfies the requirement urllib (from versions: none)\n",
      "ERROR: No matching distribution found for urllib\n",
      "WARNING: You are using pip version 21.1.3; however, version 21.2.2 is available.\n",
      "You should consider upgrading via the 'D:\\TIP\\courses\\CS 405\\module_5\\env\\Scripts\\python.exe -m pip install --upgrade pip' command.\n"
     ]
    }
   ],
   "source": [
    "!pip install urllib"
   ]
  },
  {
   "cell_type": "code",
   "execution_count": 16,
   "id": "1b781c5e",
   "metadata": {},
   "outputs": [],
   "source": [
    "urls_to_scrape = [\n",
    "    \"https://www.politifact.com/factchecks/2021/aug/06/tom-tiffany/tiffany-misses-point-behind-why-prices-are-rising-/\",\n",
    "    \"https://www.politifact.com/factchecks/2021/aug/05/facebook-posts/getting-fired-over-vaccine-mandate-may-cost-you-un/\",\n",
    "    \"https://www.politifact.com/factchecks/2021/aug/05/facebook-posts/pro-capitalism-quote-misattributed-abraham-lincoln/\",\n",
    "    \"https://www.politifact.com/factchecks/2021/aug/05/facebook-posts/feds-did-not-drop-immigrants-illegally-country-mex/\",\n",
    "    \"https://www.politifact.com/factchecks/2021/aug/05/bob-good/contrary-good-masks-have-been-shown-limit-covid-sp/\",\n",
    "    \"https://www.politifact.com/factchecks/2021/aug/05/rodney-davis/no-pelosi-was-not-calling-all-shots-capitol-securi/\",\n",
    "    \"https://www.politifact.com/factchecks/2021/aug/04/instagram-posts/cdc-did-not-say-vaccines-are-failing-or-vaccinated/\",\n",
    "    \"https://www.politifact.com/factchecks/2021/aug/04/viral-image/covid-19-its-safer-be-unvaccinated-several-ways-s-/\",\n",
    "    \"https://www.politifact.com/factchecks/2021/aug/04/facebook-posts/claim-ivermectin-bringing-down-covid-19-mortality-/\",\n",
    "    \"https://www.politifact.com/factchecks/2021/aug/04/rick-scott/rick-scotts-false-claim-biden-democrats-have-done-/\",\n",
    "    \"https://www.politifact.com/factchecks/2021/aug/04/facebook-posts/fauci-did-not-say-there-was-covid-19-variant-can-e/\",\n",
    "    \"https://www.politifact.com/factchecks/2021/aug/04/rebecca-kleefisch/no-evers-didnt-say-wisconsin-was-permanently-close/\"\n",
    "]\n",
    "\n",
    "article_path = \"article.m-textblock > p\""
   ]
  },
  {
   "cell_type": "code",
   "execution_count": 39,
   "id": "8affd3ae",
   "metadata": {},
   "outputs": [],
   "source": [
    "from bs4 import BeautifulSoup\n",
    "import urllib.request,sys,time\n",
    "import requests\n",
    "import pandas as pd\n",
    "import time\n"
   ]
  },
  {
   "cell_type": "code",
   "execution_count": 30,
   "id": "ceea244a",
   "metadata": {},
   "outputs": [],
   "source": [
    "url = 'https://www.politifact.com/factchecks/2021/aug/05/facebook-posts/pro-capitalism-quote-misattributed-abraham-lincoln/'\n",
    "\n",
    "page = requests.get(url)\n",
    "soup = BeautifulSoup(page.text, 'html.parser')\n",
    "\n"
   ]
  },
  {
   "cell_type": "code",
   "execution_count": 38,
   "id": "c2b14f6e",
   "metadata": {},
   "outputs": [
    {
     "name": "stdout",
     "output_type": "stream",
     "text": [
      "!!\n",
      "\n",
      "Two years and 11 days ago, a social media post brought forth upon Facebook another quote falsely attributed to Abraham Lincoln.\n",
      "The July 25, 2019, post pairs an image of Lincoln with a quote suggesting that the Great Emancipator was also a devout capitalist. It says:\n",
      "\"You cannot help the poor by destroying the rich. You cannot strengthen the weak by weakening the strong. You cannot bring about prosperity by discouraging thrift. You cannot lift the wage earner up by pulling the wage payer down. You cannot further the brotherhood of man by inciting class hatred. You cannot build character and courage by taking away people’s initiative and independence. You cannot help people permanently by doing for them, what they could and should do for themselves.\" \n",
      "The post was flagged as part of Facebook’s efforts to combat false news and misinformation on its news feed. (Read more about PolitiFact’s partnership with Facebook.)\n",
      "\"Lincoln never said such one-sided things about capital or labor,\" said James Cornelius, editor for the Journal of the Abraham Lincoln Association.\n",
      "\n",
      "Featured Fact-check\n",
      "\n",
      "\n",
      "\n",
      "\n",
      "\n",
      "\n",
      "\n",
      "\n",
      "\n",
      "\n",
      "\n",
      "\n",
      "\n",
      "\n",
      "\n",
      "\n",
      "Instagram posts\n",
      "\n",
      "\n",
      "stated on July 8, 2021 in Instagram\n",
      "\n",
      "\n",
      "\n",
      "\n",
      "\n",
      "\n",
      "\n",
      "\n",
      "The number of children in seven countries “missing so far this year” range from 20,000 to 460,000.\n",
      "\n",
      "\n",
      "\n",
      "\n",
      "\n",
      "\n",
      "\n",
      "\n",
      "\n",
      "\n",
      "\n",
      "\n",
      "By Kelsey Sena Tamakloe • July 12, 2021\n",
      "\n",
      "\n",
      "\n",
      "\n",
      "\n",
      "\n",
      "\n",
      "The words are from the Rev. William J.H. Boetcker, an ex-clergyman and conservative public speaker from Pennsylvania. They’re published in his 1916 pamphlet \"Inside Maxims,\" better known as \"Ten Cannots.\" (The quote that appears on Facebook and elsewhere excludes a few of the cannots.)\n",
      "The quote has been misattributed to Lincoln several times before. In 1988, then Vice President George H.W. Bush did so in a speech before the Bucks County, Pa., Chamber of Commerce, and former President Ronald Reagan made the error in his speech at the 1992 Republican National Convention.\n",
      "The likely reason for the mixup: In 1942, the Committee for Constitutional Government, a right-wing organization, published a leaflet called \"Lincoln on Limitation.\" On the front, the leaflet contained real quotes from Lincoln, but on the back, it contained the quote from Boetcker. Careless readers assumed the quote was linked to Lincoln. \n",
      "Cornelius said it was common for people to use Lincoln’s name \"to bring more attention to themselves.\" \n",
      "\"I do not know if Boetcker himself, or conceivably some newspaper editor, put these into (Lincoln’s) mouth,\" Cornelius said, \"but they have circulated as ‘real’ for 100 years now, with no sign of disappearing.\" \n",
      "We rate this claim False. \n",
      "\n"
     ]
    }
   ],
   "source": [
    "my_list = soup.select(article_path)\n",
    "for item in my_list:\n",
    "    print(\"!!\")\n",
    "    print(item.get_text())"
   ]
  },
  {
   "cell_type": "code",
   "execution_count": 46,
   "id": "1460ff20",
   "metadata": {},
   "outputs": [],
   "source": [
    "def get_text_from_article(url):\n",
    "    article_text = \"\"\n",
    "    \n",
    "    # retrieve article online\n",
    "    page = requests.get(url)\n",
    "    \n",
    "    time.sleep(1)\n",
    "    \n",
    "    # create beautifulsoup instance\n",
    "    soup = BeautifulSoup(page.text, 'html.parser')\n",
    "    \n",
    "    #  extract article by selector/CSS   \n",
    "    my_list = soup.select(article_path)\n",
    "    \n",
    "    for item in my_list:\n",
    "        article_text = article_text + item.get_text()\n",
    "    \n",
    "    return preprocess(article_text)"
   ]
  },
  {
   "cell_type": "code",
   "execution_count": 72,
   "id": "b3a1128b",
   "metadata": {
    "scrolled": true
   },
   "outputs": [
    {
     "name": "stdout",
     "output_type": "stream",
     "text": [
      " viral imag share facebook suggest come covid nineteen safer unvaccin vaccin imag make claim use grid checkmark say unvaccin vaccin get spread die covid nineteen vaccin die vaccin post flag part facebook effort combat fal news misinform news feed read partnership facebook sure peopl vaccin get viru spread exceedingli rare case die vaccin one hundr effect get vaccin dramat reduc likelihood covid nineteen infect get covid nineteen vaccin make less like get seriou ill proof establish covid nineteen vaccin author cau death common side effect vaccin includ temporari pain inject site fatigu fever seriou potenti side effect center disea control monitor report adver event follow vaccin includ allerg reaction blood clot heart inflamm nerv condit call guillain barré syndrom found rare temporari treatabl cdc maintain benefit vaccin outweigh risk featur fact check facebook post state juli two thousand twenti one facebook post pfizer covid nineteen vaccin nineti nine graphen oxid toxic human bodi cau number problem tom kertscher juli two thousand twenti one look number understand risk vaccin compar risk vaccin vaccin effect studi gener adult popul unit state show moderna pfizer biontech vaccin eighti six eighti nine effect rate infect nineti six effect rate hospit accord cdc earli evid johnson johnson janssen vaccin also demonstr effect covid nineteen studi underway cdc said vaccin safeti three hundr forti two million dose covid nineteen vaccin administ unit state dec fourteen two thousand twenti juli twenti six two thousand twenti one accord cdc period vaccin adver event report system run cdc food drug administr receiv unverifi report potenti vaccin side effect receiv six thousand three hundr forti report death nineteen among peopl receiv covid nineteen vaccin vaer report alon indic whether vaccin cau particular adver effect review avail clinic inform includ death certif autopsi medic record establish causal link covid nineteen vaccin cdc said death among unvaccin peopl juli sixteen even delta variant viru began spread cdc director rochel walenski said nineti seven new hospit patient unvaccin breakthrough case cdc latest data breakthrough case peopl becom infect covid nineteen vaccin say juli twenti six one hundr sixti three million peopl fulli vaccin six thousand five hundr eighti seven hospit die forti nine state territori report data cdc one thousand two hundr sixti three death three hundr nine report asymptomat relat covid nineteen nonprofit kaiser famili foundat drill infect rate find among twenti five state report breakthrough case publicli infect rate well rang one connecticut twenti nine alaska cdc found evid suggest although rare vaccin peopl becom infect spread viru readili unvaccin peopl get infect rate claim safer unvaccin vaccin covid nineteen fal\n"
     ]
    }
   ],
   "source": [
    "print(get_text_from_article(\"https://www.politifact.com/factchecks/2021/aug/04/viral-image/covid-19-its-safer-be-unvaccinated-several-ways-s-/\"))"
   ]
  },
  {
   "cell_type": "code",
   "execution_count": 73,
   "id": "d4ea18d7",
   "metadata": {},
   "outputs": [],
   "source": [
    "processed_text = []\n",
    "\n",
    "for url in urls_to_scrape:\n",
    "    new_article_text = get_text_from_article(url)\n",
    "    time.sleep(1)\n",
    "    processed_text.append(new_article_text)"
   ]
  },
  {
   "cell_type": "code",
   "execution_count": 74,
   "id": "0934795e",
   "metadata": {},
   "outputs": [
    {
     "data": {
      "text/plain": [
       "' graphic social media claim illustr effect antiparasit drug ivermectin role decrea covid nineteen death mexico lack verifi evid graphic post modifi version chart appear mexican govern websit track excess mortal modifi graphic includ superimpo text shade suggest declin excess death coincid result introduct ivermectin covid nineteen treatment post flag part facebook effort combat fal news misinform news feed read partnership facebook found evid support claim facebook graphic excess mortal rate mexico email mexican feder health agenc inform relat facebook claim hear back research found mexican feder govern remain divid issu establish unifi stanc use ivermectin treat prevent covid nineteen despit non bind guidanc countri health ministri advi research data necessari mexico institut social secur public health agenc allow drug use case covid nineteen kill least million peopl worldwid includ almost two hundr forti two thousand mexico accord data john hopkin univ number covid nineteen death mexico wide believ undercount excess mortal defin world health organ differ observ number death expect number death specif time period mexico excess death began taper late winter earli spring first arriv vaccin medic worker late decemb two thousand twenti vaccin access remain barrier countri local produc vaccin realiti may graphic circul facebook author juan chami self describ analyst associ advocaci group push use ivermectin covid nineteen treatment email politifact chami point data mexican govern show excess mortal rate drop exponenti week week februari juli recent excess mortal rate data week begin juli show fatal less project look excess mortal data compil mexican feder govern year rate calcul compar pre pandem averag mortal rate two thousand fifteen two thousand nineteen account year year variat found data evid show causal relationship declin ivermectin specif featur fact check instagram post state juli two thousand twenti one instagram post covid nineteen real duke duchess cambridg allow join fifti thousand footbal fan insid stadium andi nguyen juli two thousand twenti one evid use ivermectin reduc covid nineteen hospit base retrospect studi use covid nineteen registri data sponsor mexico citi health ministri said dr omar yaxmehen bello chavolla associ professor nation autonom univ mexico medic school mexico citi experi studi conduct support claim bello chavolla said statement politifact causal link ivermectin relat covid nineteen outcom ascertain avail evid use ivermectin mexico may mexico citi health offici relea result non clinic studi studi directli involv human claim ivermectin help reduc covid nineteen hospit seventi six result studi publish scientif medic journal directli address mexico excess mortal rate citi govern decemb two thousand twenti start distribut eighti three thousand medic kit peopl home hospit mild moder case accord studi kit contain three differ drug includ ivermectin ivermectin drug trumpet studi relea mexico citi studi wide charact mislead accord brazilian fact check site estadão verifica sinc heavili empha ivermectin mexico institut social secur defend use drug treat covid nineteen point mexico citi non clinic studi proof drug treatment potenti howev still firm consensu among mexican feder govern offici use ivermectin covid nineteen ministri health undersecretari hugo lópez gatel said data need paint clearer pictur ivermectin efficaci lack thereof covid nineteen treatment mexico citi base news organ anim político report march politifact fact check sever claim concern ivermectin efficaci covid nineteen found studi suggest drug help treat covid nineteen studi show tangibl effect mani studi small sampl size methodolog limit pharmaceut giant merck co develop ivermectin make drug said februari base avail emerg studi drug treat covid nineteen compani scientist found scientif basi potenti therapeut effect compani also said found concern lack safeti data major studi march statement world health organ also said data known trial use ivermectin inconclu inform need also recommend use drug treat covid nineteen except clinic set food drug administr approv ivermectin prevent treatment covid nineteen rule social media post claim use ivermectin treat individu covid nineteen cau substanti decrea excess mortal rate mexico found credibl publish data show causal relationship ivermectin decrea covid nineteen mortal mexico maker ivermectin also said believ avail data support safeti efficaci ivermectin treatment covid nineteen absenc evid prove claim rate post fal'"
      ]
     },
     "execution_count": 74,
     "metadata": {},
     "output_type": "execute_result"
    }
   ],
   "source": [
    "processed_text[8]"
   ]
  },
  {
   "cell_type": "code",
   "execution_count": 76,
   "id": "d6511ad2",
   "metadata": {},
   "outputs": [
    {
     "name": "stdout",
     "output_type": "stream",
     "text": [
      "{'sinc': 1248, 'introduct': 716, 'coronaviru': 309, 'vaccin': 1467, 'peopl': 1011, 'spend': 1275, 'time': 1389, 'outsid': 974, 'home': 648, 'come': 260, 'travel': 1409, 'sure': 1331, 'notic': 938, 'increa': 684, 'price': 1057, 'thing': 1375, 'ga': 567, 'rental': 1147, 'car': 187, 'hotel': 651, 'rep': 1149, 'tom': 1394, 'tiffani': 1388, 'wisconsin': 1520, 'certainli': 207, 'juli': 734, 'twenti': 1429, 'two': 1431, 'thousand': 1381, 'one': 955, 'tweet': 1427, 'attribut': 94, 'big': 135, 'jump': 735, 'reckless': 1119, 'democrat': 358, 'note': 936, 'eighti': 435, 'seven': 1227, 'forti': 551, 'five': 533, 'sixteen': 1254, 'begin': 122, 'import': 674, 'offer': 947, 'timefram': 1390, 'period': 1016, 'cite': 232, 'differ': 378, 'cost': 311, 'assum': 89, 'mean': 846, 'start': 1292, 'biden': 134, 'term': 1361, 'end': 448, 'specif': 1273, 'part': 990, 'fact': 492, 'check': 221, 'real': 1112, 'question': 1091, 'blame': 144, 'bill': 137, 'propo': 1072, 'mani': 828, 'pass': 998, 'implement': 672, 'yet': 1543, 'fuel': 562, 'rise': 1175, 'let': 785, 'unpack': 1452, 'point': 1036, 'inflat': 698, 'ask': 86, 'staff': 1287, 'backup': 109, 'staffer': 1288, 'sever': 1230, 'articl': 82, 'american': 54, 'rescu': 1156, 'plan': 1033, 'act': 19, 'advanc': 28, 'presid': 1053, 'joe': 727, 'congress': 285, 'risk': 1176, 'would': 1533, 'boost': 152, 'rate': 1102, 'countri': 316, 'seen': 1211, 'decad': 343, 'cour': 318, 'everi': 467, 'economist': 428, 'share': 1233, 'view': 1482, 'occur': 945, 'decrea': 349, 'purcha': 1084, 'power': 1049, 'exampl': 472, 'nine': 924, 'hundr': 660, 'movi': 895, 'ticket': 1387, 'averag': 101, 'nineteen': 925, 'save': 1195, 'ten': 1359, 'buy': 176, 'fewer': 518, 'accord': 13, 'gener': 574, 'product': 1064, 'factor': 493, 'includ': 680, 'higher': 642, 'govern': 593, 'deficit': 352, 'borrow': 154, 'case': 194, 'interest': 713, 'remain': 1143, 'steadi': 1298, 'june': 736, 'report': 1150, 'washington': 1497, 'post': 1046, 'cheap': 220, 'money': 887, 'right': 1174, 'day': 336, 'chang': 212, 'though': 1379, 'driven': 412, 'chiefli': 225, 'law': 770, 'suppli': 1329, 'demand': 357, 'high': 641, 'low': 812, 'go': 586, 'rose': 1184, 'may': 843, 'year': 1542, 'lock': 807, 'less': 784, 'notabl': 935, 'much': 898, 'went': 1509, 'grown': 609, 'featur': 510, 'rebecca': 1116, 'kleefisch': 751, 'state': 1293, 'twitter': 1430, 'say': 1197, 'gov': 592, 'toni': 1396, 'ever': 466, 'declar': 347, 'perman': 1017, 'close': 244, 'busi': 174, 'madelin': 817, 'heim': 637, 'august': 96, 'industri': 693, 'hit': 647, 'especi': 458, 'hard': 625, 'pandem': 988, 'almost': 50, 'rent': 1146, 'top': 1398, 'compani': 269, 'forc': 547, 'sell': 1214, 'third': 1377, 'total': 1399, 'fleet': 536, 'six': 1253, 'new': 918, 'york': 1544, 'magazin': 819, 'hertz': 640, 'largest': 762, 'file': 522, 'chapter': 213, 'eleven': 439, 'bankruptci': 111, 'eb': 425, 'began': 121, 'shortag': 1236, 'microchip': 860, 'cau': 199, 'manufactur': 829, 'stall': 1289, 'limit': 796, 'abil': 4, 'restock': 1165, 'reach': 1106, 'upward': 1458, 'per': 1012, 'trip': 1417, 'depend': 363, 'locat': 806, 'durat': 419, 'gallon': 569, 'regular': 1134, 'gasolin': 571, 'unit': 1448, 'eighteen': 434, 'aug': 95, 'aaa': 2, 'map': 830, 'earlier': 421, 'dip': 381, 'nineti': 926, 'place': 1032, 'usa': 1461, 'today': 1391, 'april': 76, 'stay': 1297, 'amid': 55, 'widespread': 1515, 'closur': 246, 'order': 964, 'aim': 41, 'control': 304, 'data': 333, 'also': 52, 'show': 1238, 'elect': 437, 'took': 1397, 'hou': 652, 'senat': 1217, 'republican': 1153, 'donald': 402, 'trump': 1422, 'offic': 948, 'clearli': 238, 'action': 20, 'sole': 1263, 'respon': 1162, 'claim': 234, 'fluctuat': 541, 'regardless': 1131, 'said': 1191, 'molli': 886, 'hart': 628, 'public': 1079, 'relat': 1137, 'spokesperson': 1280, 'email': 442, 'past': 1000, 'half': 618, 'pump': 1083, 'primarili': 1058, 'influenc': 700, 'critic': 327, 'tri': 1413, 'link': 799, 'cancel': 182, 'keyston': 745, 'xl': 1539, 'pipelin': 1031, 'green': 602, 'energi': 450, 'polici': 1039, 'administr': 25, 'expert': 485, 'major': 822, 'impact': 671, 'futur': 566, 'covid': 323, 'back': 108, 'relief': 1141, 'packag': 981, 'behind': 124, 'restrict': 1166, 'lift': 792, 'leav': 778, 'commun': 268, 'often': 950, 'head': 630, 'disney': 391, 'world': 1530, 'beach': 119, 'mountain': 893, 'room': 1182, 'short': 1235, 'surg': 1333, 'instanc': 709, 'quarterli': 1090, 'survey': 1336, 'resid': 1159, 'conduct': 280, 'found': 552, 'respond': 1163, 'felt': 515, 'comfort': 261, 'three': 1382, 'month': 889, 'simpli': 1247, 'put': 1087, 'kevin': 744, 'pahr': 982, 'professor': 1066, 'financ': 524, 'univ': 1449, 'steven': 1301, 'expen': 483, 'recent': 1118, 'spike': 1276, 'main': 820, 'rather': 1103, 'stimulu': 1304, 'realiz': 1114, 'pent': 1010, 'particularli': 995, 'leisur': 783, 'hospit': 650, 'economi': 427, 'reopen': 1148, 'concern': 276, 'mitig': 880, 'chain': 209, 'disrupt': 394, 'rule': 1187, 'drive': 411, 'summer': 1324, 'gone': 587, 'account': 14, 'larger': 761, 'issu': 721, 'growth': 610, 'sold': 1262, 'help': 639, 'make': 823, 'meet': 850, 'oil': 951, 'drop': 414, 'stood': 1306, 'mostli': 892, 'empti': 447, 'soar': 1259, 'partial': 991, 'accur': 16, 'ignor': 662, 'give': 584, 'impress': 675, 'fal': 497, 'oppo': 961, 'workaround': 1527, 'deal': 337, 'requir': 1155, 'employ': 446, 'get': 580, 'shot': 1237, 'mandat': 827, 'poke': 1037, 'quit': 1095, 'user': 1463, 'facebook': 491, 'fire': 529, 'way': 1499, 'unemploy': 1443, 'benefit': 130, 'pursu': 1085, 'legal': 781, 'social': 1261, 'media': 848, 'career': 189, 'advic': 31, 'flaw': 535, 'labor': 756, 'told': 1393, 'politifact': 1041, 'flag': 534, 'effort': 432, 'combat': 259, 'news': 919, 'misinform': 876, 'feed': 514, 'read': 1108, 'partnership': 997, 'incorrect': 683, 'charlott': 216, 'garden': 570, 'associ': 88, 'seattl': 1206, 'school': 1199, 'worker': 1528, 'refu': 1130, 'unlik': 1451, 'elig': 440, 'guidelin': 614, 'determin': 372, 'vari': 1469, 'applic': 73, 'handl': 623, 'messag': 854, 'train': 1405, 'kind': 749, 'count': 314, 'absenc': 8, 'special': 1272, 'legisl': 782, 'protect': 1074, 'discharg': 386, 'without': 1522, 'compen': 271, 'michael': 858, 'harper': 627, 'boston': 156, 'latitud': 767, 'payment': 1005, 'provid': 1078, 'wind': 1517, 'job': 726, 'fault': 509, 'downsiz': 405, 'set': 1226, 'person': 1020, 'misconduct': 875, 'deni': 360, 'alabama': 43, 'lowest': 814, 'handbook': 622, 'delay': 355, 'disqualifi': 392, 'connect': 288, 'work': 1526, 'failur': 496, 'obey': 942, 'endang': 449, 'safeti': 1190, 'disregard': 393, 'instruct': 711, 'agr': 38, 'violat': 1484, 'like': 793, 'unless': 1450, 'exempt': 478, 'medic': 849, 'religi': 1142, 'reason': 1115, 'cover': 322, 'feder': 513, 'instagram': 708, 'duke': 418, 'duchess': 417, 'cambridg': 181, 'allow': 49, 'join': 730, 'fifti': 521, 'footbal': 546, 'fan': 501, 'insid': 707, 'stadium': 1286, 'andi': 60, 'nguyen': 922, 'defin': 353, 'rel': 1136, 'bar': 112, 'still': 1303, 'think': 1376, 'agenc': 36, 'court': 320, 'workplac': 1529, 'suffici': 1322, 'inelig': 694, 'insur': 712, 'awar': 104, 'award': 105, 'signif': 1244, 'wusa9': 1538, 'tv': 1426, 'station': 1295, 'termin': 1362, 'reject': 1135, 'virginia': 1486, 'maryland': 836, 'north': 931, 'carolina': 191, 'michigan': 859, 'could': 312, 'expect': 482, 'justic': 737, 'depart': 362, 'counsel': 313, 'advi': 30, 'condit': 279, 'opinion': 960, 'clarifi': 235, 'prohibit': 1068, 'privat': 1060, 'entiti': 454, 'impo': 673, 'subject': 1318, 'emerg': 444, 'use': 1462, 'author': 97, 'argument': 78, 'sometim': 1264, 'push': 1086, 'judg': 733, 'threw': 1384, 'lawsuit': 771, 'houston': 656, 'system': 1343, 'wide': 1514, 'discret': 388, 'measur': 847, 'catherin': 198, 'fisk': 532, 'california': 179, 'berkeley': 131, 'certain': 206, 'health': 631, 'care': 188, 'repr': 1151, 'union': 1447, 'collect': 255, 'bargain': 113, 'agreement': 39, 'might': 864, 'leverag': 788, 'even': 463, 'consid': 292, 'decid': 346, 'grievanc': 605, 'negoti': 914, 'tyson': 1434, 'food': 545, 'corpor': 310, 'announc': 62, 'leader': 773, 'statement': 1294, 'discuss': 389, 'ensur': 453, 'inaccur': 677, 'pertain': 1022, 'scenario': 1198, 'entitl': 455, 'accommod': 12, 'reli': 1140, 'follow': 544, 'guidanc': 613, 'receiv': 1117, 'unplea': 1453, 'surpri': 1335, 'guarant': 611, 'compli': 274, 'contrari': 302, 'situat': 1252, 'ago': 37, 'brought': 168, 'forth': 550, 'upon': 1457, 'anoth': 63, 'quot': 1096, 'abraham': 7, 'lincoln': 797, 'pair': 986, 'imag': 668, 'suggest': 1323, 'great': 599, 'emancip': 443, 'devout': 375, 'capitalist': 185, 'poor': 1043, 'destroy': 369, 'rich': 1172, 'strengthen': 1311, 'weak': 1500, 'weaken': 1501, 'strong': 1313, 'bring': 164, 'prosper': 1073, 'discourag': 387, 'thrift': 1385, 'wage': 1490, 'earner': 423, 'pull': 1082, 'payer': 1004, 'brotherhood': 167, 'man': 825, 'incit': 679, 'class': 236, 'hatr': 629, 'build': 171, 'charact': 214, 'courag': 319, 'take': 1347, 'away': 106, 'initi': 705, 'independ': 686, 'never': 917, 'side': 1242, 'capit': 184, 'jame': 723, 'corneliu': 308, 'editor': 429, 'journal': 731, 'number': 940, 'children': 227, 'miss': 878, 'far': 502, 'rang': 1098, 'four': 554, 'sixti': 1255, 'kelsey': 742, 'sena': 1216, 'tamaklo': 1350, 'twelv': 1428, 'word': 1524, 'rev': 1170, 'william': 1516, 'boetcker': 151, 'ex': 470, 'clergyman': 239, 'conserv': 291, 'speaker': 1271, 'pennsylvania': 1009, 'publish': 1081, 'pamphlet': 987, 'maxim': 841, 'better': 133, 'known': 753, 'appear': 72, 'elsewh': 441, 'exclud': 476, 'misattribut': 873, 'eight': 433, 'vice': 1479, 'georg': 578, 'bush': 173, 'speech': 1274, 'buck': 169, 'counti': 315, 'pa': 979, 'chamber': 210, 'commerc': 264, 'former': 549, 'ronald': 1181, 'reagan': 1111, 'made': 816, 'error': 457, 'nation': 905, 'convent': 306, 'mixup': 881, 'committ': 265, 'constitut': 294, 'wing': 1518, 'organ': 965, 'leaflet': 774, 'call': 180, 'front': 561, 'contain': 299, 'careless': 190, 'reader': 1109, 'common': 266, 'name': 902, 'attent': 93, 'know': 752, 'conceiv': 275, 'newspap': 920, 'mouth': 894, 'circul': 231, 'sign': 1243, 'disappear': 385, 'wrongli': 1536, 'immigr': 670, 'illeg': 665, 'mexican': 856, 'restaur': 1164, 'small': 1258, 'town': 1402, 'northeastern': 932, 'florida': 537, 'saturday': 1194, 'morn': 890, 'thirti': 1378, 'buss': 175, 'sic': 1240, 'stop': 1307, 'cove': 321, 'spring': 1283, 'live': 802, 'wrote': 1537, 'driver': 413, 'everyon': 468, 'buse': 172, 'hand': 621, 'left': 780, 'passeng': 999, 'straight': 1309, 'southern': 1266, 'border': 153, 'local': 805, 'enforc': 451, 'offici': 949, 'wrong': 1535, 'evid': 469, 'govt': 595, 'group': 608, 'undocu': 1442, 'citi': 233, 'polic': 1038, 'command': 262, 'guzman': 616, 'orlando': 967, 'area': 77, 'consul': 295, 'held': 638, 'event': 464, 'la': 754, 'casita': 195, 'servic': 1225, 'involv': 719, 'happen': 624, 'success': 1321, 'incid': 678, 'flyer': 542, 'mexico': 857, 'weekend': 1505, 'particip': 992, 'consular': 296, 'antonia': 70, 'marquez': 834, 'manag': 826, 'us': 1460, 'attend': 92, 'nearbi': 909, 'walk': 1493, 'good': 588, 'turn': 1425, 'around': 80, 'refer': 1128, 'spread': 1282, 'inform': 702, 'custom': 331, 'send': 1218, 'northern': 933, 'updat': 1456, 'vilifi': 1483, 'liar': 790, 'troll': 1419, 'deputi': 364, 'th': 1368, 'assist': 87, 'bob': 147, 'va': 1466, 'dim': 379, 'mask': 837, 'wear': 1502, 'demonstr': 359, 'prevent': 1055, 'although': 53, 'debat': 339, 'effect': 430, 'type': 1432, 'look': 810, 'proof': 1071, '5th': 1, 'district': 397, 'stretch': 1312, 'southsid': 1267, 'charlottevil': 217, 'royal': 1186, 'broadli': 166, 'focu': 543, 'cloth': 248, 'sent': 1219, 'interview': 715, 'epidemiologist': 456, 'osterholm': 970, 'center': 205, 'infecti': 696, 'disea': 390, 'research': 1157, 'minnesota': 870, 'reduc': 1126, 'amount': 57, 'viru': 1488, 'inhal': 704, 'exhal': 480, 'olsterholm': 953, 'cnn': 250, 'bottom': 157, 'line': 798, 'tell': 1357, 'true': 1421, 'ad': 22, 'similar': 1245, 'remark': 1144, 'stir': 1305, 'comment': 263, 'support': 1330, 'face': 490, 'ground': 607, 'supplement': 1328, 'distanc': 395, 'continu': 301, 'improv': 676, 'spoke': 1277, 'highli': 644, 'n95': 901, 'larg': 760, 'reserv': 1158, 'personnel': 1021, 'testimoni': 1366, 'virologist': 1487, 'li': 789, 'meng': 852, 'yan': 1540, 'freedom': 558, 'caucu': 200, 'congressman': 286, 'belong': 128, 'controversi': 305, 'alleg': 46, 'chine': 228, 'laboratori': 757, 'efficaci': 431, 'base': 116, 'scientif': 1200, 'scientist': 1201, 'flow': 540, 'droplet': 415, 'fall': 498, 'uncov': 1436, 'touch': 1400, 'eye': 489, 'surgic': 1334, 'percentag': 1014, 'necessari': 911, 'crowd': 328, 'lack': 758, 'recommend': 1121, 'occa': 944, 'indian': 689, 'studi': 1316, 'find': 525, 'benefici': 129, 'peer': 1007, 'review': 1171, 'februari': 512, 'lancet': 759, 'fourteen': 555, 'victim': 1480, 'contact': 298, 'catalonia': 196, 'spain': 1269, 'transmiss': 1407, 'individu': 691, 'conclud': 278, 'acknowledg': 17, 'collid': 256, 'pfizer': 1023, 'graphen': 597, 'oxid': 978, 'toxic': 1403, 'human': 659, 'bodi': 148, 'problem': 1061, 'kertscher': 743, 'ind': 685, 'lead': 772, 'institut': 710, 'sampl': 1193, 'march': 831, 'cdc': 203, 'investig': 718, 'outbreak': 971, 'symptomat': 1341, 'aboard': 6, 'aircraft': 42, 'carrier': 193, 'uss': 1464, 'theodor': 1371, 'roosevelt': 1183, 'member': 851, 'infect': 695, 'compar': 270, 'among': 56, 'beij': 125, 'famili': 500, 'least': 777, 'confirm': 283, 'first': 531, 'lower': 813, 'secondari': 1208, 'seventi': 1229, 'long': 808, 'thailand': 1369, 'origin': 966, 'uninfect': 1446, 'asymptomat': 90, 'wore': 1525, 'mid': 861, 'onlin': 956, 'groceri': 606, 'store': 1308, 'friend': 560, 'got': 591, 'tripl': 1418, 'odd': 946, 'massachusett': 839, 'healthcar': 632, 'mass': 838, 'brigham': 163, 'systemat': 1344, 'test': 1364, 'posit': 1045, 'result': 1167, 'next': 921, 'germani': 579, 'daili': 332, 'region': 1132, 'springfield': 1284, 'mo': 882, 'client': 241, 'expo': 486, 'hairstylist': 617, 'stylist': 1317, 'neg': 913, 'kansa': 739, 'laura': 768, 'kelli': 741, 'execut': 477, 'space': 1268, 'opt': 962, 'week': 1504, 'later': 765, 'fifteen': 519, 'columbia': 257, 'credit': 325, 'avert': 102, 'ontario': 957, 'led': 779, 'weekli': 1506, 'reduct': 1127, 'express': 488, 'outlier': 973, 'catalonian': 197, 'india': 688, 'jan': 724, 'attack': 91, 'capitol': 186, 'devolv': 374, 'exerci': 479, 'polit': 1040, 'finger': 526, 'rodney': 1178, 'davi': 335, 'illinoi': 666, 'choru': 229, 'shift': 1234, 'secur': 1209, 'nanci': 903, 'pelosi': 1008, 'calif': 178, 'pick': 1029, 'serv': 1224, 'panel': 989, 'minor': 871, 'mccarthi': 844, 'appoint': 74, 'protest': 1076, 'press': 1054, 'confer': 281, 'hour': 653, 'hear': 633, 'potenti': 1048, 'contend': 300, 'governor': 594, 'structur': 1314, 'deci': 345, 'crisi': 326, 'chief': 224, 'final': 523, 'board': 146, 'boss': 155, 'sergeant': 1222, 'arm': 79, 'paul': 1003, 'irv': 720, 'request': 1154, 'permiss': 1018, 'seek': 1210, 'guard': 612, 'afternoon': 34, 'need': 912, 'approv': 75, 'conver': 307, 'prior': 1059, 'steve': 1300, 'sund': 1325, 'testifi': 1365, 'optic': 963, 'goplead': 590, 'stevescali': 1302, 'repstefanik': 1152, 'housegop': 654, 'colleagu': 254, 'talk': 1349, 'postur': 1047, 'complex': 273, 'fail': 495, 'watch': 1498, 'full': 563, 'pic': 1028, 'com': 258, 'kimh4mqnos': 748, 'rodneydavi': 1179, 'checker': 222, 'debunk': 341, 'numer': 941, 'alon': 51, 'role': 1180, 'direct': 382, 'mislead': 877, 'mcconnel': 845, 'nomin': 927, 'respect': 1161, 'overs': 977, 'concert': 277, 'sit': 1250, 'indic': 690, 'oper': 959, 'feb': 511, 'letter': 786, 'spokesman': 1278, 'aaron': 3, 'degroot': 354, 'admit': 26, 'bodyguard': 149, 'rank': 1099, 'kill': 747, 'ashli': 84, 'babbitt': 107, 'samantha': 1192, 'putterman': 1088, 'descript': 366, 'bipartisan': 142, 'unilat': 1445, 'must': 899, 'submit': 1319, 'likewi': 795, 'howev': 657, 'prove': 1077, 'stenger': 1299, 'mitch': 879, 'play': 1034, 'activ': 21, 'notifi': 939, 'urgent': 1459, 'despit': 368, 'confu': 284, 'statutori': 1296, 'process': 1062, 'eventu': 465, 'grant': 596, 'aid': 40, 'perplex': 1019, 'learn': 776, 'troop': 1420, 'spokesmen': 1279, 'mr': 896, 'ms': 897, 'profess': 1065, 'drew': 409, 'hammil': 620, 'taken': 1348, 'charg': 215, 'highlight': 645, 'greenlight': 603, 'detail': 370, 'conjunct': 287, 'element': 438, 'truth': 1424, 'click': 240, 'select': 1212, 'domino': 401, 'leak': 775, 'transmit': 1408, 'easili': 424, 'unvaccin': 1454, 'confess': 282, 'vax': 1472, 'superspread': 1327, 'viral': 1485, 'screenshot': 1204, 'natur': 906, 'anti': 66, 'websit': 1503, 'promot': 1070, 'conspiraci': 293, 'theori': 1372, 'via': 1477, 'director': 384, 'dr': 407, 'rochel': 1177, 'walenski': 1492, 'carri': 192, 'load': 803, 'contribut': 303, 'broadcast': 165, 'relea': 1139, 'walenksi': 1491, 'similarli': 1246, 'indoor': 692, 'geograph': 577, 'substanti': 1320, 'date': 334, 'seventeen': 1228, 'delta': 356, 'variant': 1470, 'behav': 123, 'strain': 1310, 'immedi': 669, 'referenc': 1129, 'intern': 714, 'breakthrough': 161, 'abl': 5, 'densiti': 361, 'particl': 993, 'rai': 1097, 'cluster': 249, 'cape': 183, 'cod': 252, 'quarter': 1089, 'seriou': 1223, 'rare': 1101, 'zero': 1546, 'death': 338, 'document': 399, 'nbc': 908, 'percent': 1013, 'fulli': 564, 'kaiser': 738, 'foundat': 553, 'analyz': 59, 'identifi': 661, 'safer': 1189, 'grid': 604, 'checkmark': 223, 'die': 377, 'exceedingli': 473, 'dramat': 408, 'likelihood': 794, 'ill': 664, 'establish': 459, 'temporari': 1358, 'pain': 984, 'inject': 706, 'site': 1251, 'fatigu': 507, 'fever': 517, 'monitor': 888, 'adver': 29, 'allerg': 47, 'reaction': 1107, 'blood': 145, 'clot': 247, 'heart': 634, 'inflamm': 697, 'nerv': 915, 'guillain': 615, 'barré': 115, 'syndrom': 1342, 'treatabl': 1411, 'maintain': 821, 'outweigh': 975, 'understand': 1439, 'adult': 27, 'popul': 1044, 'moderna': 884, 'biontech': 141, 'earli': 420, 'johnson': 729, 'janssen': 725, 'underway': 1440, 'million': 866, 'dose': 404, 'administ': 24, 'dec': 342, 'run': 1188, 'drug': 416, 'unverifi': 1455, 'vaer': 1468, 'whether': 1512, 'particular': 994, 'avail': 100, 'clinic': 243, 'certif': 208, 'autopsi': 99, 'record': 1123, 'causal': 201, 'patient': 1001, 'latest': 766, 'becom': 120, 'territori': 1363, 'nonprofit': 929, 'drill': 410, 'publicli': 1080, 'well': 1508, 'connecticut': 289, 'alaska': 44, 'readili': 1110, 'graphic': 598, 'illustr': 667, 'antiparasit': 69, 'ivermectin': 722, 'verifi': 1473, 'modifi': 885, 'version': 1475, 'chart': 218, 'track': 1404, 'excess': 475, 'mortal': 891, 'superimpo': 1326, 'text': 1367, 'shade': 1231, 'declin': 348, 'coincid': 253, 'treatment': 1412, 'divid': 398, 'unifi': 1444, 'stanc': 1290, 'treat': 1410, 'non': 928, 'bind': 139, 'ministri': 869, 'worldwid': 1531, 'john': 728, 'hopkin': 649, 'believ': 126, 'undercount': 1437, 'observ': 943, 'taper': 1352, 'late': 764, 'winter': 1519, 'arriv': 81, 'decemb': 344, 'access': 11, 'barrier': 114, 'produc': 1063, 'realiti': 1113, 'juan': 732, 'chami': 211, 'self': 1213, 'describ': 365, 'analyst': 58, 'advocaci': 32, 'exponenti': 487, 'fatal': 506, 'project': 1069, 'compil': 272, 'calcul': 177, 'pre': 1051, 'variat': 1471, 'relationship': 1138, 'retrospect': 1168, 'registri': 1133, 'sponsor': 1281, 'omar': 954, 'yaxmehen': 1541, 'bello': 127, 'chavolla': 219, 'autonom': 98, 'experi': 484, 'outcom': 972, 'ascertain': 83, 'directli': 383, 'address': 23, 'distribut': 396, 'kit': 750, 'mild': 865, 'moder': 883, 'trumpet': 1423, 'brazilian': 159, 'estadão': 460, 'verifica': 1474, 'heavili': 636, 'empha': 445, 'defend': 351, 'firm': 530, 'consensu': 290, 'undersecretari': 1438, 'hugo': 658, 'lópez': 815, 'gatel': 572, 'paint': 985, 'clearer': 237, 'pictur': 1030, 'thereof': 1374, 'anim': 61, 'político': 1042, 'tangibl': 1351, 'size': 1256, 'methodolog': 855, 'pharmaceut': 1024, 'giant': 581, 'merck': 853, 'co': 251, 'develop': 373, 'basi': 117, 'therapeut': 1373, 'trial': 1414, 'inconclu': 682, 'except': 474, 'credibl': 324, 'maker': 824, 'sen': 1215, 'rick': 1173, 'scott': 1202, 'hammer': 619, 'ravag': 1104, 'biggest': 136, 'floridian': 538, 'invest': 717, 'current': 329, 'consum': 297, 'index': 687, 'fastest': 505, 'pace': 980, 'accu': 15, 'done': 403, 'absolut': 9, 'noth': 937, 'struggl': 1315, 'keep': 740, 'nearli': 910, 'trillion': 1416, 'debt': 340, 'slow': 1257, 'lot': 811, 'infrastructur': 703, 'roughli': 1185, 'budget': 170, 'reconcili': 1122, 'paid': 983, 'tax': 1354, 'incom': 681, 'inflationari': 699, 'econom': 426, 'heavi': 635, 'trigger': 1415, 'absorb': 10, 'fast': 504, 'enough': 452, 'anyth': 71, 'billion': 138, 'dollar': 400, 'household': 655, 'singl': 1249, 'vote': 1489, 'neutral': 916, 'sourc': 1265, 'estim': 461, 'best': 132, 'closer': 245, 'overlook': 976, 'return': 1169, 'coupl': 317, 'tail': 1346, 'quickli': 1092, 'mark': 832, 'free': 557, 'women': 1523, 'soccer': 1260, 'team': 1356, 'old': 952, 'war': 1496, 'ii': 663, 'veteran': 1476, 'anthem': 64, 'fifth': 520, 'taxpay': 1355, 'saw': 1196, 'raw': 1105, 'second': 1207, 'highest': 643, 'middl': 862, 'child': 226, 'minimum': 868, 'younger': 1545, 'gain': 568, 'littl': 801, 'across': 18, 'togeth': 1392, 'kid': 746, 'earn': 422, 'whatev': 1510, 'bit': 143, 'greatli': 600, 'expand': 481, 'maximum': 842, 'custodi': 330, 'biolog': 140, 'threshold': 1383, 'phase': 1025, 'marri': 835, 'age': 35, 'open': 958, 'quintil': 1093, 'stand': 1291, 'basic': 118, 'influx': 701, 'affect': 33, 'midst': 863, 'evad': 462, 'detect': 371, 'suspend': 1337, 'anthoni': 65, 'fauci': 508, 'allergi': 48, 'want': 1495, 'sick': 1241, 'symptom': 1340, 'franc': 556, 'finland': 527, 'unawar': 1435, 'pcr': 1006, 'diagnost': 376, 'genet': 575, 'materi': 840, 'present': 1052, 'nose': 934, 'antigen': 68, 'search': 1205, 'protein': 1075, 'surfac': 1332, 'commonli': 267, 'rapid': 1100, 'typic': 1433, 'within': 1521, 'minut': 872, 'longer': 809, 'usual': 1465, 'separ': 1220, 'antibodi': 67, 'examin': 471, 'previou': 1056, 'niaid': 923, 'perform': 1015, 'target': 1353, 'genom': 576, 'recogn': 1120, 'mutat': 900, 'harder': 626, 'undetect': 1441, 'form': 548, 'wherea': 1511, 'shallow': 1232, 'nasal': 904, 'swab': 1338, 'deeper': 350, 'caviti': 202, 'french': 559, 'finnish': 528, 'sequenc': 1221, 'given': 585, 'greek': 601, 'design': 367, 'transcript': 1406, 'white': 1513, 'brief': 162, 'avoid': 103, 'shown': 1239, 'resist': 1160, 'thank': 1370, 'gift': 583, 'normal': 930, 'festiv': 516, 'farmer': 503, 'market': 833, 'swing': 1339, 'dine': 380, 'patio': 1002, 'plu': 1035, 'gather': 573, 'downtown': 406, 'celebr': 204, 'milwauk': 867, 'histor': 646, 'clinch': 242, 'nba': 907, 'last': 763, 'spar': 1270, 'flourish': 539, 'lieuten': 791, 'walker': 1494, 'googl': 589, 'list': 800, 'quip': 1094, 'madison': 818, 'red': 1125, 'break': 160, 'tough': 1401, 'gibe': 582, 'factual': 494, 'alec': 45, 'zimmerman': 1547, 'screen': 1203, 'video': 1481, 'phone': 1026, 'box': 158, 'label': 755, 'worth': 1532, 'written': 1534, 'lauren': 769, 'boebert': 150, 'ppp': 1050, 'loan': 804, 'ciara': 230, 'orourk': 968, 'remov': 1145, 'taglin': 1345, 'welcom': 1507, 'tenur': 1360, 'physic': 1027, 'either': 436, 'partisan': 996, 'stabil': 1285, 'fallen': 499, 'level': 787, '10th': 0, 'oshkosh': 969, 'thought': 1380, 'viabl': 1478, 'fund': 565, 'tomorrow': 1395, 'recoveri': 1124, 'program': 1067, 'throughout': 1386, 'asid': 85, 'badger': 110, 'mischaract': 874}\n",
      "[2.87180218 2.87180218 2.87180218 ... 2.87180218 2.87180218 2.87180218]\n"
     ]
    }
   ],
   "source": [
    "# create the transform\n",
    "\n",
    "vectorizer = TfidfVectorizer()\n",
    "\n",
    "# tokenize and build vocabulary\n",
    "vectorizer.fit(processed_text)\n",
    "\n",
    "# summarize\n",
    "\n",
    "# specific\n",
    "# print(vectorizer.vocabulary_['sharewar'])\n",
    "# print(vectorizer.idf_[0])\n",
    "\n",
    "# all\n",
    "print(vectorizer.vocabulary_)\n",
    "print(vectorizer.idf_)\n"
   ]
  },
  {
   "cell_type": "code",
   "execution_count": 77,
   "id": "7aa19fe9",
   "metadata": {},
   "outputs": [
    {
     "name": "stdout",
     "output_type": "stream",
     "text": [
      "sinc\n",
      "1248\n",
      "2.8718021769015913\n"
     ]
    }
   ],
   "source": [
    "# create table with list of entities\n",
    "word = []\n",
    "frequency = []\n",
    "score = []\n",
    "\n",
    "i = 0\n",
    "for key, value in vectorizer.vocabulary_.items():\n",
    "    word.append(key)\n",
    "    frequency.append(value)\n",
    "    score.append(vectorizer.idf_[i])\n",
    "    i+=1\n",
    "    \n",
    "print(word[0])\n",
    "print(frequency[0])\n",
    "print(score[0])"
   ]
  },
  {
   "cell_type": "code",
   "execution_count": 78,
   "id": "cf2fc6f4",
   "metadata": {},
   "outputs": [
    {
     "data": {
      "text/html": [
       "<div>\n",
       "<style scoped>\n",
       "    .dataframe tbody tr th:only-of-type {\n",
       "        vertical-align: middle;\n",
       "    }\n",
       "\n",
       "    .dataframe tbody tr th {\n",
       "        vertical-align: top;\n",
       "    }\n",
       "\n",
       "    .dataframe thead th {\n",
       "        text-align: right;\n",
       "    }\n",
       "</style>\n",
       "<table border=\"1\" class=\"dataframe\">\n",
       "  <thead>\n",
       "    <tr style=\"text-align: right;\">\n",
       "      <th></th>\n",
       "      <th>Word</th>\n",
       "      <th>Freq</th>\n",
       "      <th>Score</th>\n",
       "    </tr>\n",
       "  </thead>\n",
       "  <tbody>\n",
       "    <tr>\n",
       "      <th>0</th>\n",
       "      <td>gasolin</td>\n",
       "      <td>571</td>\n",
       "      <td>2.871802</td>\n",
       "    </tr>\n",
       "    <tr>\n",
       "      <th>1</th>\n",
       "      <td>larg</td>\n",
       "      <td>760</td>\n",
       "      <td>2.871802</td>\n",
       "    </tr>\n",
       "    <tr>\n",
       "      <th>2</th>\n",
       "      <td>set</td>\n",
       "      <td>1226</td>\n",
       "      <td>2.871802</td>\n",
       "    </tr>\n",
       "    <tr>\n",
       "      <th>3</th>\n",
       "      <td>featur</td>\n",
       "      <td>510</td>\n",
       "      <td>2.466337</td>\n",
       "    </tr>\n",
       "    <tr>\n",
       "      <th>4</th>\n",
       "      <td>consul</td>\n",
       "      <td>295</td>\n",
       "      <td>2.871802</td>\n",
       "    </tr>\n",
       "    <tr>\n",
       "      <th>...</th>\n",
       "      <td>...</td>\n",
       "      <td>...</td>\n",
       "      <td>...</td>\n",
       "    </tr>\n",
       "    <tr>\n",
       "      <th>1543</th>\n",
       "      <td>kind</td>\n",
       "      <td>749</td>\n",
       "      <td>2.871802</td>\n",
       "    </tr>\n",
       "    <tr>\n",
       "      <th>1544</th>\n",
       "      <td>nineti</td>\n",
       "      <td>926</td>\n",
       "      <td>2.871802</td>\n",
       "    </tr>\n",
       "    <tr>\n",
       "      <th>1545</th>\n",
       "      <td>updat</td>\n",
       "      <td>1456</td>\n",
       "      <td>2.466337</td>\n",
       "    </tr>\n",
       "    <tr>\n",
       "      <th>1546</th>\n",
       "      <td>marquez</td>\n",
       "      <td>834</td>\n",
       "      <td>1.955511</td>\n",
       "    </tr>\n",
       "    <tr>\n",
       "      <th>1547</th>\n",
       "      <td>reject</td>\n",
       "      <td>1135</td>\n",
       "      <td>2.466337</td>\n",
       "    </tr>\n",
       "  </tbody>\n",
       "</table>\n",
       "<p>1548 rows × 3 columns</p>\n",
       "</div>"
      ],
      "text/plain": [
       "         Word  Freq     Score\n",
       "0     gasolin   571  2.871802\n",
       "1        larg   760  2.871802\n",
       "2         set  1226  2.871802\n",
       "3      featur   510  2.466337\n",
       "4      consul   295  2.871802\n",
       "...       ...   ...       ...\n",
       "1543     kind   749  2.871802\n",
       "1544   nineti   926  2.871802\n",
       "1545    updat  1456  2.466337\n",
       "1546  marquez   834  1.955511\n",
       "1547   reject  1135  2.466337\n",
       "\n",
       "[1548 rows x 3 columns]"
      ]
     },
     "execution_count": 78,
     "metadata": {},
     "output_type": "execute_result"
    }
   ],
   "source": [
    "entities_labels = list(set(zip(word, frequency, score)))\n",
    "entities_df = pd.DataFrame(entities_labels)\n",
    "entities_df.columns = [\"Word\", \"Freq\", \"Score\"]\n",
    "entities_df"
   ]
  },
  {
   "cell_type": "code",
   "execution_count": 62,
   "id": "bb734746",
   "metadata": {},
   "outputs": [
    {
     "data": {
      "text/html": [
       "<div>\n",
       "<style scoped>\n",
       "    .dataframe tbody tr th:only-of-type {\n",
       "        vertical-align: middle;\n",
       "    }\n",
       "\n",
       "    .dataframe tbody tr th {\n",
       "        vertical-align: top;\n",
       "    }\n",
       "\n",
       "    .dataframe thead th {\n",
       "        text-align: right;\n",
       "    }\n",
       "</style>\n",
       "<table border=\"1\" class=\"dataframe\">\n",
       "  <thead>\n",
       "    <tr style=\"text-align: right;\">\n",
       "      <th></th>\n",
       "      <th>Word</th>\n",
       "      <th>Freq</th>\n",
       "      <th>Score</th>\n",
       "    </tr>\n",
       "  </thead>\n",
       "  <tbody>\n",
       "    <tr>\n",
       "      <th>788</th>\n",
       "      <td>zimmerman</td>\n",
       "      <td>1547</td>\n",
       "      <td>2.178655</td>\n",
       "    </tr>\n",
       "    <tr>\n",
       "      <th>868</th>\n",
       "      <td>zero</td>\n",
       "      <td>1546</td>\n",
       "      <td>2.871802</td>\n",
       "    </tr>\n",
       "    <tr>\n",
       "      <th>1084</th>\n",
       "      <td>younger</td>\n",
       "      <td>1545</td>\n",
       "      <td>2.871802</td>\n",
       "    </tr>\n",
       "    <tr>\n",
       "      <th>313</th>\n",
       "      <td>york</td>\n",
       "      <td>1544</td>\n",
       "      <td>2.178655</td>\n",
       "    </tr>\n",
       "    <tr>\n",
       "      <th>221</th>\n",
       "      <td>yet</td>\n",
       "      <td>1543</td>\n",
       "      <td>2.871802</td>\n",
       "    </tr>\n",
       "    <tr>\n",
       "      <th>...</th>\n",
       "      <td>...</td>\n",
       "      <td>...</td>\n",
       "      <td>...</td>\n",
       "    </tr>\n",
       "    <tr>\n",
       "      <th>843</th>\n",
       "      <td>abil</td>\n",
       "      <td>4</td>\n",
       "      <td>2.871802</td>\n",
       "    </tr>\n",
       "    <tr>\n",
       "      <th>1128</th>\n",
       "      <td>aaron</td>\n",
       "      <td>3</td>\n",
       "      <td>1.773190</td>\n",
       "    </tr>\n",
       "    <tr>\n",
       "      <th>623</th>\n",
       "      <td>aaa</td>\n",
       "      <td>2</td>\n",
       "      <td>2.871802</td>\n",
       "    </tr>\n",
       "    <tr>\n",
       "      <th>607</th>\n",
       "      <td>5th</td>\n",
       "      <td>1</td>\n",
       "      <td>2.871802</td>\n",
       "    </tr>\n",
       "    <tr>\n",
       "      <th>949</th>\n",
       "      <td>10th</td>\n",
       "      <td>0</td>\n",
       "      <td>2.871802</td>\n",
       "    </tr>\n",
       "  </tbody>\n",
       "</table>\n",
       "<p>1548 rows × 3 columns</p>\n",
       "</div>"
      ],
      "text/plain": [
       "           Word  Freq     Score\n",
       "788   zimmerman  1547  2.178655\n",
       "868        zero  1546  2.871802\n",
       "1084    younger  1545  2.871802\n",
       "313        york  1544  2.178655\n",
       "221         yet  1543  2.871802\n",
       "...         ...   ...       ...\n",
       "843        abil     4  2.871802\n",
       "1128      aaron     3  1.773190\n",
       "623         aaa     2  2.871802\n",
       "607         5th     1  2.871802\n",
       "949        10th     0  2.871802\n",
       "\n",
       "[1548 rows x 3 columns]"
      ]
     },
     "execution_count": 62,
     "metadata": {},
     "output_type": "execute_result"
    }
   ],
   "source": [
    "final_df = entities_df.sort_values(by=['Freq'], ascending=False)\n",
    "final_df"
   ]
  },
  {
   "cell_type": "code",
   "execution_count": 63,
   "id": "385af685",
   "metadata": {},
   "outputs": [],
   "source": [
    "word_list = final_df['Word'].tolist()\n",
    "freq_list = final_df['Freq'].tolist()"
   ]
  },
  {
   "cell_type": "code",
   "execution_count": 55,
   "id": "09143946",
   "metadata": {},
   "outputs": [
    {
     "name": "stdout",
     "output_type": "stream",
     "text": [
      "Collecting matplotlib\n",
      "  Using cached matplotlib-3.4.2-cp39-cp39-win_amd64.whl (7.1 MB)\n",
      "Requirement already satisfied: pyparsing>=2.2.1 in d:\\tip\\courses\\cs 405\\module_5\\env\\lib\\site-packages (from matplotlib) (2.4.7)\n",
      "Collecting cycler>=0.10\n",
      "  Using cached cycler-0.10.0-py2.py3-none-any.whl (6.5 kB)\n",
      "Collecting kiwisolver>=1.0.1\n",
      "  Using cached kiwisolver-1.3.1-cp39-cp39-win_amd64.whl (51 kB)\n",
      "Collecting pillow>=6.2.0\n",
      "  Using cached Pillow-8.3.1-1-cp39-cp39-win_amd64.whl (3.2 MB)\n",
      "Requirement already satisfied: numpy>=1.16 in d:\\tip\\courses\\cs 405\\module_5\\env\\lib\\site-packages (from matplotlib) (1.21.1)\n",
      "Requirement already satisfied: python-dateutil>=2.7 in d:\\tip\\courses\\cs 405\\module_5\\env\\lib\\site-packages (from matplotlib) (2.8.2)\n",
      "Requirement already satisfied: six in d:\\tip\\courses\\cs 405\\module_5\\env\\lib\\site-packages (from cycler>=0.10->matplotlib) (1.16.0)\n",
      "Installing collected packages: pillow, kiwisolver, cycler, matplotlib\n",
      "Successfully installed cycler-0.10.0 kiwisolver-1.3.1 matplotlib-3.4.2 pillow-8.3.1\n"
     ]
    },
    {
     "name": "stderr",
     "output_type": "stream",
     "text": [
      "WARNING: You are using pip version 21.1.3; however, version 21.2.2 is available.\n",
      "You should consider upgrading via the 'D:\\TIP\\courses\\CS 405\\module_5\\env\\Scripts\\python.exe -m pip install --upgrade pip' command.\n"
     ]
    }
   ],
   "source": [
    "! pip install matplotlib"
   ]
  },
  {
   "cell_type": "code",
   "execution_count": 56,
   "id": "eaa846b3",
   "metadata": {},
   "outputs": [],
   "source": [
    "from matplotlib import pyplot as plt"
   ]
  },
  {
   "cell_type": "code",
   "execution_count": 71,
   "id": "dbaeba01",
   "metadata": {},
   "outputs": [
    {
     "data": {
      "image/png": "[encoded data removed]",
      "text/plain": [
       "<Figure size 864x648 with 1 Axes>"
      ]
     },
     "metadata": {
      "needs_background": "light"
     },
     "output_type": "display_data"
    }
   ],
   "source": [
    "top_word_list = word_list[:15]\n",
    "top_freq_list = freq_list[:15]\n",
    "\n",
    "fig, ax = plt.subplots(figsize =(12, 9))\n",
    "ax.barh(top_word_list, top_freq_list)\n",
    "for s in ['top', 'bottom', 'left', 'right']:\n",
    "    ax.spines[s].set_visible(False)\n",
    "    \n",
    "# Remove x, y Ticks\n",
    "ax.xaxis.set_ticks_position('none')\n",
    "ax.yaxis.set_ticks_position('none')\n",
    "plt.show()"
   ]
  }
 ],
 "metadata": {
  "kernelspec": {
   "display_name": "Python 3 (ipykernel)",
   "language": "python",
   "name": "python3"
  },
  "language_info": {
   "codemirror_mode": {
    "name": "ipython",
    "version": 3
   },
   "file_extension": ".py",
   "mimetype": "text/x-python",
   "name": "python",
   "nbconvert_exporter": "python",
   "pygments_lexer": "ipython3",
   "version": "3.9.5"
  }
 },
 "nbformat": 4,
 "nbformat_minor": 5
}
